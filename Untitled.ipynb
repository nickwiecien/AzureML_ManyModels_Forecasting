{
 "cells": [
  {
   "cell_type": "code",
   "execution_count": 3,
   "id": "da5daaba",
   "metadata": {},
   "outputs": [],
   "source": [
    "from azureml.core import Workspace, Experiment, Datastore, Environment, Dataset, Run\n",
    "from azureml.core.compute import ComputeTarget, AmlCompute, DataFactoryCompute\n",
    "from azureml.core.compute_target import ComputeTargetException\n",
    "from azureml.core.runconfig import RunConfiguration\n",
    "from azureml.core.conda_dependencies import CondaDependencies\n",
    "from azureml.core.runconfig import DEFAULT_CPU_IMAGE\n",
    "from azureml.pipeline.core import Pipeline, PipelineParameter, PipelineData\n",
    "from azureml.pipeline.steps import PythonScriptStep\n",
    "from azureml.pipeline.core import PipelineParameter, PipelineData\n",
    "from azureml.data.output_dataset_config import OutputTabularDatasetConfig, OutputDatasetConfig, OutputFileDatasetConfig\n",
    "from azureml.data.datapath import DataPath\n",
    "from azureml.data.data_reference import DataReference\n",
    "from azureml.data.sql_data_reference import SqlDataReference\n",
    "from azureml.pipeline.steps import DataTransferStep\n",
    "import logging"
   ]
  },
  {
   "cell_type": "code",
   "execution_count": 2,
   "id": "4170818f",
   "metadata": {},
   "outputs": [],
   "source": [
    "# Connect to AML Workspace\n",
    "ws = Workspace.from_config()"
   ]
  },
  {
   "cell_type": "code",
   "execution_count": 7,
   "id": "9542d9b3",
   "metadata": {},
   "outputs": [],
   "source": [
    "run_id = 'AutoML_9aabcae1-3dbf-4444-ac28-1f1333870f84_best'\n",
    "\n",
    "my_run = Run.get(ws, run_id)\n",
    "# dir(my_run)\n",
    "my_run.download_files(prefix='', output_directory='./rundata')"
   ]
  },
  {
   "cell_type": "code",
   "execution_count": 8,
   "id": "f9d49c54",
   "metadata": {},
   "outputs": [
    {
     "name": "stderr",
     "output_type": "stream",
     "text": [
      "2022-04-22:19:41:03,669 INFO     [modeling_bert.py:226] Better speed can be achieved with apex installed from https://www.github.com/nvidia/apex .\n",
      "2022-04-22:19:41:03,689 INFO     [modeling_xlnet.py:339] Better speed can be achieved with apex installed from https://www.github.com/nvidia/apex .\n"
     ]
    }
   ],
   "source": [
    "import joblib\n",
    "\n",
    "out = joblib.load('./rundata/outputs/internal_cross_validated_models.pkl')"
   ]
  },
  {
   "cell_type": "code",
   "execution_count": 21,
   "id": "76433e72",
   "metadata": {},
   "outputs": [
    {
     "data": {
      "text/plain": [
       "{'non_deterministic': False,\n",
       " 'requires_positive_X': False,\n",
       " 'requires_positive_y': False,\n",
       " 'X_types': ['2darray'],\n",
       " 'poor_score': False,\n",
       " 'no_validation': False,\n",
       " 'multioutput': False,\n",
       " 'allow_nan': False,\n",
       " 'stateless': False,\n",
       " 'multilabel': False,\n",
       " '_skip_test': False,\n",
       " 'multioutput_only': False,\n",
       " 'binary_only': False,\n",
       " 'requires_fit': True}"
      ]
     },
     "execution_count": 21,
     "metadata": {},
     "output_type": "execute_result"
    }
   ],
   "source": [
    "dir(out[0])\n",
    "out[0]._get_tags()"
   ]
  },
  {
   "cell_type": "code",
   "execution_count": 19,
   "id": "9527d7cf",
   "metadata": {},
   "outputs": [
    {
     "data": {
      "text/plain": [
       "[('timeseriestransformer',\n",
       "  TimeSeriesTransformer(\n",
       "      pipeline_type=TimeSeriesPipelineType.FULL,\n",
       "      max_horizon=20,\n",
       "      use_stl=None,\n",
       "      seasonality=4,\n",
       "      force_time_index_features=None,\n",
       "      grain_column_names=['Store', 'Brand'],\n",
       "      drop_column_names=[],\n",
       "      origin_time_colname='origin',\n",
       "      group=None,\n",
       "      country_or_region=None,\n",
       "      freq='W-THU',\n",
       "      time_column_name='WeekStarting',\n",
       "      pipeline=Pipeline(\n",
       "          memory=None,\n",
       "          steps=[('make_numeric_na_dummies', MissingDummiesTransformer(\n",
       "              numerical_columns=['Advert', 'Price', 'Revenue']\n",
       "          )), ('impute_na_numeric_datetime', TimeSeriesImputer(\n",
       "              end=None,\n",
       "              freq='W-THU',\n",
       "              impute_by_horizon=False,\n",
       "              input_column=['Advert', 'Price', 'Revenue'],\n",
       "              limit=None,\n",
       "              limit_direction='forward',\n",
       "              method=OrderedDict([('ffill', [])]),\n",
       "              option='fillna',\n",
       "              order=None,\n",
       "              origin=None,\n",
       "              value={'Advert': 1.0, 'Price': 2.31, 'Revenue': 32517.165}\n",
       "          )), ('grain_dropper', ShortGrainDropper()), ('restore_dtypes_transform', RestoreDtypesTransformer(\n",
       "              target_column='_automl_target_col',\n",
       "              dtypes={'_automl_target_col': dtype('int64'), 'Advert': dtype('int64'), 'Price': dtype('float64'), 'Revenue': dtype('float64')}\n",
       "          )), ('make_grain_features', GrainIndexFeaturizer(\n",
       "              categories_by_grain_cols=None,\n",
       "              grain_feature_prefix='grain',\n",
       "              overwrite_columns=True,\n",
       "              prefix_sep='_',\n",
       "              ts_frequency='W-THU'\n",
       "          )), ('make_categoricals_numeric', NumericalizeTransformer(\n",
       "              include_columns=set(),\n",
       "              exclude_columns=set(),\n",
       "              categories_by_col={'grain_Store': Int64Index([1333], dtype='int64'), 'grain_Brand': Index(['dominicks'], dtype='object')}\n",
       "          )), ('make_time_index_featuers', TimeIndexFeaturizer(\n",
       "              correlation_cutoff=0.99,\n",
       "              country_or_region=None,\n",
       "              datetime_columns=None,\n",
       "              force_feature_list=None,\n",
       "              freq='W-THU',\n",
       "              holiday_end_time=None,\n",
       "              holiday_start_time=None,\n",
       "              overwrite_columns=True,\n",
       "              prune_features=True\n",
       "          )), ('make_categoricals_onehot', CategoryBinarizer(\n",
       "              columns=[],\n",
       "              drop_first=False,\n",
       "              dummy_na=False,\n",
       "              encode_all_categoricals=False,\n",
       "              prefix=None,\n",
       "              prefix_sep='_'\n",
       "          ))],\n",
       "          verbose=False\n",
       "      ),\n",
       "      featurization_config=FeaturizationConfig(\n",
       "          blocked_transformers=None,\n",
       "          column_purposes=None,\n",
       "          transformer_params=None,\n",
       "          dataset_language=None,\n",
       "          drop_columns=None,\n",
       "          prediction_transform_type=None\n",
       "      ),\n",
       "      time_index_non_holiday_features=['_automl_year', '_automl_half', '_automl_quarter', '_automl_month', '_automl_day', '_automl_qday'],\n",
       "      lookback_features_removed=False\n",
       "  )),\n",
       " ('prefittedsoftvotingregressor',\n",
       "  PreFittedSoftVotingRegressor(\n",
       "      estimators=[('5', Pipeline(\n",
       "          memory=None,\n",
       "          steps=[('arimax', Arimax(\n",
       "              timeseries_param_dict={'time_column_name': 'WeekStarting', 'grain_column_names': ['Store', 'Brand'], 'drop_column_names': [], 'overwrite_columns': True, 'dropna': False, 'transform_dictionary': {'min': '_automl_target_col', 'max': '_automl_target_col', 'mean': '_automl_target_col'}, 'max_horizon': 20, 'origin_time_colname': 'origin', 'country_or_region': None, 'n_cross_validations': 3, 'short_series_handling': True, 'max_cores_per_iteration': 1, 'feature_lags': None, 'target_aggregation_function': None, 'cv_step_size': None, 'iteration_timeout_minutes': 60, 'seasonality': 4, 'use_stl': None, 'freq': 'W-THU', 'short_series_handling_configuration': 'auto', 'target_lags': [0], 'target_rolling_window_size': 0, 'arimax_raw_columns': ['Advert', 'Brand', 'WeekStarting', 'Price', 'Store', 'Revenue']}\n",
       "          ))],\n",
       "          verbose=False\n",
       "      )), ('8', Pipeline(\n",
       "          memory=None,\n",
       "          steps=[('standardscalerwrapper', StandardScalerWrapper(\n",
       "              copy=True,\n",
       "              with_mean=False,\n",
       "              with_std=False\n",
       "          )), ('xgboostregressor', XGBoostRegressor(\n",
       "              random_state=0,\n",
       "              n_jobs=1,\n",
       "              problem_info=ProblemInfo(\n",
       "                  gpu_training_param_dict={'processing_unit_type': 'cpu'}\n",
       "              ),\n",
       "              tree_method='auto'\n",
       "          ))],\n",
       "          verbose=False\n",
       "      ))],\n",
       "      weights=[0.8461538461538461, 0.15384615384615385]\n",
       "  ))]"
      ]
     },
     "execution_count": 19,
     "metadata": {},
     "output_type": "execute_result"
    }
   ],
   "source": [
    "out[0].steps"
   ]
  }
 ],
 "metadata": {
  "kernelspec": {
   "display_name": "Python 3.6 - AzureML",
   "language": "python",
   "name": "python3-azureml"
  },
  "language_info": {
   "codemirror_mode": {
    "name": "ipython",
    "version": 3
   },
   "file_extension": ".py",
   "mimetype": "text/x-python",
   "name": "python",
   "nbconvert_exporter": "python",
   "pygments_lexer": "ipython3",
   "version": "3.6.9"
  }
 },
 "nbformat": 4,
 "nbformat_minor": 5
}
